{
 "cells": [
  {
   "cell_type": "code",
   "execution_count": 4,
   "metadata": {},
   "outputs": [],
   "source": [
    "# Read data\n",
    "import json_lines\n",
    "X = []\n",
    "y = []\n",
    "z = []\n",
    "with open('data.txt', 'rb') as f:\n",
    "    for item in json_lines.reader(f):\n",
    "        X.append(item['text'])\n",
    "        y.append(item['voted_up'])\n",
    "        z.append(item['early_access'])"
   ]
  },
  {
   "cell_type": "code",
   "execution_count": 31,
   "metadata": {},
   "outputs": [
    {
     "data": {
      "text/plain": [
       "{'zh-cn': 127,\n",
       " 'en': 2053,\n",
       " 'tr': 254,\n",
       " 'af': 44,\n",
       " 'bg': 47,\n",
       " 'de': 195,\n",
       " 'tl': 44,\n",
       " 'ru': 826,\n",
       " 'es': 176,\n",
       " 'pt': 201,\n",
       " 'it': 33,\n",
       " 'pl': 108,\n",
       " 'symb': 113,\n",
       " 'fr': 90,\n",
       " 'sq': 8,\n",
       " 'ro': 22,\n",
       " 'sk': 17,\n",
       " 'so': 81,\n",
       " 'vi': 13,\n",
       " 'sl': 18,\n",
       " 'da': 21,\n",
       " 'cy': 26,\n",
       " 'no': 19,\n",
       " 'mk': 31,\n",
       " 'ja': 27,\n",
       " 'th': 20,\n",
       " 'ko': 106,\n",
       " 'et': 18,\n",
       " 'hu': 30,\n",
       " 'ca': 16,\n",
       " 'uk': 23,\n",
       " 'id': 23,\n",
       " 'fi': 6,\n",
       " 'nl': 45,\n",
       " 'cs': 25,\n",
       " 'sw': 13,\n",
       " 'sv': 7,\n",
       " 'hr': 26,\n",
       " 'lv': 4,\n",
       " 'lt': 1,\n",
       " 'zh-tw': 2}"
      ]
     },
     "execution_count": 31,
     "metadata": {},
     "output_type": "execute_result"
    }
   ],
   "source": [
    "from langdetect import detect\n",
    "\n",
    "langs = {}\n",
    "\n",
    "for i in range(len(X)):\n",
    "    text = X[i]\n",
    "    try:\n",
    "        lang = detect(text)\n",
    "    except:\n",
    "        lang = 'symb'\n",
    "    \n",
    "    try:\n",
    "        langs[lang] = langs[lang] + 1\n",
    "    except:\n",
    "        langs[lang] = 0\n",
    "        \n",
    "langs"
   ]
  },
  {
   "cell_type": "code",
   "execution_count": 33,
   "metadata": {},
   "outputs": [
    {
     "data": {
      "text/plain": [
       "4959"
      ]
     },
     "execution_count": 33,
     "metadata": {},
     "output_type": "execute_result"
    }
   ],
   "source": [
    "sum(list(langs.values()))"
   ]
  },
  {
   "cell_type": "code",
   "execution_count": 34,
   "metadata": {},
   "outputs": [
    {
     "data": {
      "text/plain": [
       "5000"
      ]
     },
     "execution_count": 34,
     "metadata": {},
     "output_type": "execute_result"
    }
   ],
   "source": [
    "len(X)"
   ]
  },
  {
   "cell_type": "code",
   "execution_count": 36,
   "metadata": {},
   "outputs": [],
   "source": [
    "# Data preparation\n",
    "import numpy as np\n",
    "X = np.array(X).reshape(-1, 1)"
   ]
  },
  {
   "cell_type": "markdown",
   "metadata": {},
   "source": [
    "# Firstly, dummy baseline"
   ]
  },
  {
   "cell_type": "code",
   "execution_count": 154,
   "metadata": {},
   "outputs": [
    {
     "name": "stdout",
     "output_type": "stream",
     "text": [
      "F1: 0.0\n",
      "Accuracy: 0.902\n"
     ]
    },
    {
     "data": {
      "image/png": "[encoded data removed]",
      "text/plain": [
       "<Figure size 432x288 with 2 Axes>"
      ]
     },
     "metadata": {
      "needs_background": "light"
     },
     "output_type": "display_data"
    }
   ],
   "source": [
    "from sklearn.dummy import DummyClassifier\n",
    "from sklearn.model_selection import train_test_split\n",
    "from sklearn.metrics import accuracy_score, f1_score, plot_confusion_matrix\n",
    "\n",
    "X_train, X_test, y_train, y_test = train_test_split(X_tfidf, z, test_size=0.2)\n",
    "\n",
    "dummy_clf = DummyClassifier(strategy='most_frequent')\n",
    "dummy_clf.fit(X_train, y_train)\n",
    "plot_confusion_matrix(dummy_clf, X_test, y_test)\n",
    "\n",
    "y_pred = dummy_clf.predict(X_test)\n",
    "print('F1:', f1_score(y_test, y_pred))\n",
    "print('Accuracy:', accuracy_score(y_test, y_pred))"
   ]
  },
  {
   "cell_type": "markdown",
   "metadata": {},
   "source": [
    "# Feature Extraction"
   ]
  },
  {
   "cell_type": "code",
   "execution_count": null,
   "metadata": {},
   "outputs": [],
   "source": [
    "# Translate to English\n",
    "from google_trans_new import google_translator\n",
    "t = google_translator()\n",
    "X_trans = []\n",
    "for i in range(len(X)):\n",
    "    print(f'{i}/{len(X)}')\n",
    "    row = X[i][0]\n",
    "    X_trans.append(t.translate(row))\n",
    "\n",
    "X_trans[0:5]"
   ]
  },
  {
   "cell_type": "code",
   "execution_count": null,
   "metadata": {},
   "outputs": [],
   "source": [
    "import pandas as pd\n",
    "\n",
    "# Cache features\n",
    "df = pd.DataFrame(data=X_trans)\n",
    "df.to_csv('translated_data.csv', index=False)"
   ]
  },
  {
   "cell_type": "markdown",
   "metadata": {},
   "source": [
    "# Read Data"
   ]
  },
  {
   "cell_type": "code",
   "execution_count": 135,
   "metadata": {},
   "outputs": [],
   "source": [
    "import pandas as pd\n",
    "\n",
    "df = pd.read_csv('translated_data.csv')\n",
    "X_trans = df.to_numpy()\n",
    "X_trans = X_trans.flatten()"
   ]
  },
  {
   "cell_type": "markdown",
   "metadata": {},
   "source": [
    "# Pre-processing\n",
    "- Having all the text in English means that we can apply English pre-processing, such as tokenization, stemming etc.\n",
    "- This will reduce the dimensionality of the input and thus make the model less complex."
   ]
  },
  {
   "cell_type": "markdown",
   "metadata": {},
   "source": [
    "### TF-IDF"
   ]
  },
  {
   "cell_type": "code",
   "execution_count": 96,
   "metadata": {},
   "outputs": [],
   "source": [
    "import string\n",
    "from nltk import word_tokenize\n",
    "from nltk.corpus import stopwords\n",
    "from nltk.stem.porter import PorterStemmer\n",
    "from langdetect import detect\n",
    "\n",
    "def check_symb(s):\n",
    "    try:\n",
    "        detect(s)\n",
    "    except:\n",
    "        s = s + ' symb'\n",
    "    return s\n",
    "\n",
    "def remove_punc(s):\n",
    "    return \"\".join([char for char in s if char not in string.punctuation])\n",
    "\n",
    "def remove_stopwords(tokens):\n",
    "    stop_words = stopwords.words('english')\n",
    "    return [word for word in tokens if word not in stop_words]\n",
    "\n",
    "def stem(tokens):\n",
    "    porter = PorterStemmer()\n",
    "    return [porter.stem(word) for word in tokens]\n",
    "\n",
    "def to_bigrams(tokens):\n",
    "    return list(bigrams(tokens))\n",
    "\n",
    "# to lowercase\n",
    "X_symb = list(map(check_symb, X_trans))\n",
    "X_low = list(map(str.lower, X_symb))\n",
    "X_punc = list(map(remove_punc, X_low))\n",
    "X_tok = list(map(word_tokenize, X_punc))\n",
    "X_stop = list(map(remove_stopwords, X_tok))\n",
    "X_stemmed = list(map(stem, X_stop))"
   ]
  },
  {
   "cell_type": "code",
   "execution_count": 108,
   "metadata": {},
   "outputs": [],
   "source": [
    "from sklearn.feature_extraction.text import TfidfVectorizer\n",
    "tfidf = TfidfVectorizer(preprocessor=lambda x: x, tokenizer=lambda x:x)\n",
    "X_tfidf = tfidf.fit_transform(X_stemmed)"
   ]
  },
  {
   "cell_type": "code",
   "execution_count": 109,
   "metadata": {},
   "outputs": [],
   "source": [
    "import scipy.sparse as sp\n",
    "\n",
    "sp.save_npz('tfidf_features.npz', X_tfidf)"
   ]
  },
  {
   "cell_type": "code",
   "execution_count": 2,
   "metadata": {
    "scrolled": true
   },
   "outputs": [
    {
     "data": {
      "text/plain": [
       "<5000x13016 sparse matrix of type '<class 'numpy.float64'>'\n",
       "\twith 118761 stored elements in Compressed Sparse Row format>"
      ]
     },
     "execution_count": 2,
     "metadata": {},
     "output_type": "execute_result"
    }
   ],
   "source": [
    "import scipy.sparse as sp\n",
    "\n",
    "X_tfidf = sp.load_npz('tfidf_features.npz')\n",
    "X_tfidf"
   ]
  },
  {
   "cell_type": "markdown",
   "metadata": {},
   "source": [
    "### Word2Vec"
   ]
  },
  {
   "cell_type": "code",
   "execution_count": 5,
   "metadata": {},
   "outputs": [
    {
     "ename": "NameError",
     "evalue": "name 'X_stemmed' is not defined",
     "output_type": "error",
     "traceback": [
      "\u001b[0;31m---------------------------------------------------------------------------\u001b[0m",
      "\u001b[0;31mNameError\u001b[0m                                 Traceback (most recent call last)",
      "\u001b[0;32m<ipython-input-5-10bc1d746c0e>\u001b[0m in \u001b[0;36m<module>\u001b[0;34m\u001b[0m\n\u001b[1;32m      1\u001b[0m \u001b[0;32mfrom\u001b[0m \u001b[0mgensim\u001b[0m\u001b[0;34m.\u001b[0m\u001b[0mmodels\u001b[0m \u001b[0;32mimport\u001b[0m \u001b[0mDoc2Vec\u001b[0m\u001b[0;34m\u001b[0m\u001b[0;34m\u001b[0m\u001b[0m\n\u001b[1;32m      2\u001b[0m \u001b[0;34m\u001b[0m\u001b[0m\n\u001b[0;32m----> 3\u001b[0;31m \u001b[0mw2v\u001b[0m \u001b[0;34m=\u001b[0m \u001b[0mDoc2Vec\u001b[0m\u001b[0;34m(\u001b[0m\u001b[0mX_stemmed\u001b[0m\u001b[0;34m,\u001b[0m \u001b[0mmin_count\u001b[0m\u001b[0;34m=\u001b[0m\u001b[0;36m3\u001b[0m\u001b[0;34m,\u001b[0m \u001b[0msize\u001b[0m\u001b[0;34m=\u001b[0m\u001b[0;36m100\u001b[0m\u001b[0;34m)\u001b[0m\u001b[0;34m\u001b[0m\u001b[0;34m\u001b[0m\u001b[0m\n\u001b[0m\u001b[1;32m      4\u001b[0m \u001b[0mprint\u001b[0m\u001b[0;34m(\u001b[0m\u001b[0mw2v\u001b[0m\u001b[0;34m)\u001b[0m\u001b[0;34m\u001b[0m\u001b[0;34m\u001b[0m\u001b[0m\n",
      "\u001b[0;31mNameError\u001b[0m: name 'X_stemmed' is not defined"
     ]
    }
   ],
   "source": [
    "from gensim.models import Doc2Vec\n",
    "\n",
    "w2v = Doc2Vec(X_stemmed, min_count=3, size=100)\n",
    "print(w2v)"
   ]
  },
  {
   "cell_type": "code",
   "execution_count": 374,
   "metadata": {},
   "outputs": [
    {
     "name": "stderr",
     "output_type": "stream",
     "text": [
      "/opt/anaconda3/lib/python3.7/site-packages/ipykernel_launcher.py:5: DeprecationWarning: Call to deprecated `__getitem__` (Method will be removed in 4.0.0, use self.wv.__getitem__() instead).\n",
      "  \"\"\"\n"
     ]
    }
   ],
   "source": [
    "def doc_to_vec(tokens):\n",
    "    vecs = []\n",
    "    for t in tokens:\n",
    "        try:\n",
    "            vec = w2v[t]\n",
    "            vecs.append(vec)\n",
    "        except:\n",
    "            pass\n",
    "    if vecs != []:\n",
    "        return np.array(vecs).mean(axis=0)\n",
    "    else:\n",
    "        return np.zeros(100)\n",
    "\n",
    "X_w2v = [doc_to_vec(d) for d in X_stemmed]"
   ]
  },
  {
   "cell_type": "markdown",
   "metadata": {},
   "source": [
    "### Train Test Split"
   ]
  },
  {
   "cell_type": "code",
   "execution_count": 375,
   "metadata": {},
   "outputs": [],
   "source": [
    "from sklearn.model_selection import train_test_split\n",
    "from sklearn.decomposition import TruncatedSVD\n",
    "\n",
    "# Dimensionality Reduction\n",
    "#svd = TruncatedSVD(n_components=1000)\n",
    "#X_svd = svd.fit_transform(X_tfidf)\n",
    "\n",
    "X_train, X_test, y_train, y_test = train_test_split(X_w2v, y, test_size=0.2)"
   ]
  },
  {
   "cell_type": "markdown",
   "metadata": {},
   "source": [
    "# Logistic Regression Model"
   ]
  },
  {
   "cell_type": "code",
   "execution_count": 376,
   "metadata": {},
   "outputs": [
    {
     "name": "stdout",
     "output_type": "stream",
     "text": [
      "Mean acc.: 0.6138\n"
     ]
    }
   ],
   "source": [
    "from sklearn.linear_model import LogisticRegression\n",
    "from sklearn.metrics import classification_report, accuracy_score\n",
    "from sklearn.model_selection import cross_val_score\n",
    "\n",
    "clf = LogisticRegression()\n",
    "scores = cross_val_score(clf, X_w2v, y, cv=5)\n",
    "print('Mean acc.:', scores.mean())"
   ]
  },
  {
   "cell_type": "code",
   "execution_count": 159,
   "metadata": {},
   "outputs": [
    {
     "name": "stdout",
     "output_type": "stream",
     "text": [
      "Mean acc.: 0.7522\n"
     ]
    }
   ],
   "source": [
    "from sklearn.svm import RidgeClassifier\n",
    "from sklearn.metrics import classification_report, accuracy_score\n",
    "from sklearn.model_selection import cross_val_score\n",
    "\n",
    "clf = RidgeClassifier()\n",
    "scores = cross_val_score(clf, X_tfidf, y, cv=5)\n",
    "print('Mean acc.:', scores.mean())"
   ]
  },
  {
   "cell_type": "markdown",
   "metadata": {},
   "source": [
    "### Regularisation Hyperparam Tuning"
   ]
  },
  {
   "cell_type": "code",
   "execution_count": null,
   "metadata": {},
   "outputs": [],
   "source": [
    "from sklearn.model_selection import cross_val_score\n",
    "import matplotlib.pyplot as plt\n",
    "\n",
    "C = [0.01, 0.1, 1, 10, 100]\n",
    "mean_scores = []\n",
    "std_scores = []\n",
    "for c in C:\n",
    "    clf_l1 = LogisticRegression(penalty='l2', C=c)\n",
    "    scores = cross_val_score(clf_l1, X_svd, y, cv=5)\n",
    "    mean_scores.append(scores.mean())\n",
    "    std_scores.append(scores.std())\n",
    "\n",
    "plt.errorbar(C, mean_scores, yerr=std_scores)\n",
    "plt.xlabel('C')\n",
    "plt.ylabel('Mean Accuracy')\n",
    "plt.show()"
   ]
  },
  {
   "cell_type": "markdown",
   "metadata": {},
   "source": [
    "# Support Vector Classifier"
   ]
  },
  {
   "cell_type": "code",
   "execution_count": 377,
   "metadata": {},
   "outputs": [
    {
     "name": "stdout",
     "output_type": "stream",
     "text": [
      "              precision    recall  f1-score   support\n",
      "\n",
      "       False       0.55      0.82      0.65       514\n",
      "        True       0.59      0.28      0.38       486\n",
      "\n",
      "    accuracy                           0.56      1000\n",
      "   macro avg       0.57      0.55      0.52      1000\n",
      "weighted avg       0.57      0.56      0.52      1000\n",
      "\n",
      "0.556\n"
     ]
    }
   ],
   "source": [
    "from sklearn.svm import SVC\n",
    "\n",
    "clf_svc = SVC(kernel='rbf')\n",
    "clf_svc.fit(X_train, y_train)\n",
    "y_pred_svc = clf_svc.predict(X_test)\n",
    "print(classification_report(y_test, y_pred_svc))\n",
    "print(accuracy_score(y_test, y_pred_svc))"
   ]
  },
  {
   "cell_type": "code",
   "execution_count": 28,
   "metadata": {},
   "outputs": [
    {
     "data": {
      "text/plain": [
       "<1x13015 sparse matrix of type '<class 'numpy.float64'>'\n",
       "\twith 1 stored elements in Compressed Sparse Row format>"
      ]
     },
     "execution_count": 28,
     "metadata": {},
     "output_type": "execute_result"
    }
   ],
   "source": [
    "# Feature Scaling\n",
    "from sklearn.preprocessing import StandardScaler\n",
    "\n",
    "scaler = StandardScaler(with_mean=False)\n",
    "X_scaled = scaler.fit_transform(X_train)"
   ]
  },
  {
   "cell_type": "markdown",
   "metadata": {},
   "source": [
    "# Neural Network"
   ]
  },
  {
   "cell_type": "code",
   "execution_count": 356,
   "metadata": {},
   "outputs": [
    {
     "name": "stdout",
     "output_type": "stream",
     "text": [
      "              precision    recall  f1-score   support\n",
      "\n",
      "       False       0.60      0.82      0.70       489\n",
      "        True       0.74      0.48      0.58       511\n",
      "\n",
      "    accuracy                           0.65      1000\n",
      "   macro avg       0.67      0.65      0.64      1000\n",
      "weighted avg       0.67      0.65      0.64      1000\n",
      "\n",
      "0.648\n"
     ]
    },
    {
     "name": "stderr",
     "output_type": "stream",
     "text": [
      "/opt/anaconda3/lib/python3.7/site-packages/sklearn/neural_network/_multilayer_perceptron.py:571: ConvergenceWarning: Stochastic Optimizer: Maximum iterations (100) reached and the optimization hasn't converged yet.\n",
      "  % self.max_iter, ConvergenceWarning)\n"
     ]
    }
   ],
   "source": [
    "from sklearn.neural_network import MLPClassifier\n",
    "model = MLPClassifier(hidden_layer_sizes=(100, 100), max_iter=100)\n",
    "model.fit(X_train, y_train)\n",
    "y_pred_mlp =  model.predict(X_test)\n",
    "print(classification_report(y_test, y_pred_mlp))\n",
    "print(accuracy_score(y_test, y_pred_mlp))"
   ]
  },
  {
   "cell_type": "code",
   "execution_count": null,
   "metadata": {},
   "outputs": [],
   "source": [
    "# MLP Cross-validation\n",
    "from sklearn.neural_network import MLPClassifier\n",
    "mlp = MLPClassifier(max_iter=100)\n",
    "\n",
    "parameter_space = {\n",
    "    'hidden_layer_sizes': [(50,50,50), (50,100,50), (100,)],\n",
    "    'activation': ['tanh', 'relu'],\n",
    "    'solver': ['sgd', 'adam'],\n",
    "    'alpha': [0.0001, 0.05],\n",
    "    'learning_rate': ['constant','adaptive'],\n",
    "}\n",
    "\n",
    "from sklearn.model_selection import GridSearchCV\n",
    "\n",
    "clf = GridSearchCV(mlp, parameter_space, n_jobs=-1, cv=3)\n",
    "clf.fit(X_train, y_train)\n",
    "\n",
    "# Best paramete set\n",
    "print('Best parameters found:\\n', clf.best_params_)\n",
    "\n",
    "# All results\n",
    "means = clf.cv_results_['mean_test_score']\n",
    "stds = clf.cv_results_['std_test_score']\n",
    "for mean, std, params in zip(means, stds, clf.cv_results_['params']):\n",
    "    print(\"%0.3f (+/-%0.03f) for %r\" % (mean, std * 2, params))"
   ]
  },
  {
   "cell_type": "markdown",
   "metadata": {},
   "source": [
    "# KNN"
   ]
  },
  {
   "cell_type": "code",
   "execution_count": 378,
   "metadata": {},
   "outputs": [
    {
     "name": "stdout",
     "output_type": "stream",
     "text": [
      "              precision    recall  f1-score   support\n",
      "\n",
      "       False       0.58      0.75      0.65       514\n",
      "        True       0.62      0.42      0.50       486\n",
      "\n",
      "    accuracy                           0.59      1000\n",
      "   macro avg       0.60      0.59      0.58      1000\n",
      "weighted avg       0.60      0.59      0.58      1000\n",
      "\n",
      "0.592\n"
     ]
    }
   ],
   "source": [
    "from sklearn.neighbors import KNeighborsClassifier\n",
    "knn = KNeighborsClassifier(n_neighbors=100, metric='euclidean')\n",
    "knn.fit(X_train, y_train)\n",
    "y_pred_knn = knn.predict(X_test)\n",
    "print(classification_report(y_test, y_pred_knn))\n",
    "print(accuracy_score(y_test, y_pred_knn))"
   ]
  },
  {
   "cell_type": "markdown",
   "metadata": {},
   "source": [
    "# Visualising Document Clusters\n",
    "- Use PCA to convert each document to 2 dimensions."
   ]
  },
  {
   "cell_type": "code",
   "execution_count": 4,
   "metadata": {},
   "outputs": [
    {
     "data": {
      "text/plain": [
       "<matplotlib.collections.PathCollection at 0x1a204033d0>"
      ]
     },
     "execution_count": 4,
     "metadata": {},
     "output_type": "execute_result"
    },
    {
     "data": {
      "image/png": "[encoded data removed]",
      "text/plain": [
       "<Figure size 432x288 with 1 Axes>"
      ]
     },
     "metadata": {
      "needs_background": "light"
     },
     "output_type": "display_data"
    }
   ],
   "source": [
    "from sklearn.decomposition import TruncatedSVD\n",
    "import matplotlib.pyplot as plt\n",
    "\n",
    "X_svd = TruncatedSVD(n_components=2).fit_transform(X_tfidf)\n",
    "pos_X = X_svd[0:2500]\n",
    "neg_X = X_svd[2500:5000]\n",
    "\n",
    "plt.scatter(pos_X[:,0], pos_X[:,1], color='blue')\n",
    "plt.scatter(neg_X[:,0], neg_X[:,1], color='red')"
   ]
  }
 ],
 "metadata": {
  "kernelspec": {
   "display_name": "Python 3",
   "language": "python",
   "name": "python3"
  },
  "language_info": {
   "codemirror_mode": {
    "name": "ipython",
    "version": 3
   },
   "file_extension": ".py",
   "mimetype": "text/x-python",
   "name": "python",
   "nbconvert_exporter": "python",
   "pygments_lexer": "ipython3",
   "version": "3.7.6"
  }
 },
 "nbformat": 4,
 "nbformat_minor": 4
}
